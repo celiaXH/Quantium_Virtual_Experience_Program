{
 "cells": [
  {
   "cell_type": "code",
   "execution_count": 3,
   "id": "9c403ad7",
   "metadata": {},
   "outputs": [],
   "source": [
    "import pandas as pd\n",
    "import numpy as np\n",
    "import seaborn as sb"
   ]
  },
  {
   "cell_type": "code",
   "execution_count": 4,
   "id": "be6743e0",
   "metadata": {},
   "outputs": [],
   "source": [
    "dataset= pd.read_excel('QVI_transaction_data.xlsx')"
   ]
  },
  {
   "cell_type": "code",
   "execution_count": 5,
   "id": "b1ed7778",
   "metadata": {},
   "outputs": [
    {
     "data": {
      "text/html": [
       "<div>\n",
       "<style scoped>\n",
       "    .dataframe tbody tr th:only-of-type {\n",
       "        vertical-align: middle;\n",
       "    }\n",
       "\n",
       "    .dataframe tbody tr th {\n",
       "        vertical-align: top;\n",
       "    }\n",
       "\n",
       "    .dataframe thead th {\n",
       "        text-align: right;\n",
       "    }\n",
       "</style>\n",
       "<table border=\"1\" class=\"dataframe\">\n",
       "  <thead>\n",
       "    <tr style=\"text-align: right;\">\n",
       "      <th></th>\n",
       "      <th>DATE</th>\n",
       "      <th>STORE_NBR</th>\n",
       "      <th>LYLTY_CARD_NBR</th>\n",
       "      <th>TXN_ID</th>\n",
       "      <th>PROD_NBR</th>\n",
       "      <th>PROD_NAME</th>\n",
       "      <th>PROD_QTY</th>\n",
       "      <th>TOT_SALES</th>\n",
       "    </tr>\n",
       "  </thead>\n",
       "  <tbody>\n",
       "    <tr>\n",
       "      <th>0</th>\n",
       "      <td>43390</td>\n",
       "      <td>1</td>\n",
       "      <td>1000</td>\n",
       "      <td>1</td>\n",
       "      <td>5</td>\n",
       "      <td>Natural Chip        Compny SeaSalt175g</td>\n",
       "      <td>2</td>\n",
       "      <td>6.0</td>\n",
       "    </tr>\n",
       "    <tr>\n",
       "      <th>1</th>\n",
       "      <td>43599</td>\n",
       "      <td>1</td>\n",
       "      <td>1307</td>\n",
       "      <td>348</td>\n",
       "      <td>66</td>\n",
       "      <td>CCs Nacho Cheese    175g</td>\n",
       "      <td>3</td>\n",
       "      <td>6.3</td>\n",
       "    </tr>\n",
       "    <tr>\n",
       "      <th>2</th>\n",
       "      <td>43605</td>\n",
       "      <td>1</td>\n",
       "      <td>1343</td>\n",
       "      <td>383</td>\n",
       "      <td>61</td>\n",
       "      <td>Smiths Crinkle Cut  Chips Chicken 170g</td>\n",
       "      <td>2</td>\n",
       "      <td>2.9</td>\n",
       "    </tr>\n",
       "    <tr>\n",
       "      <th>3</th>\n",
       "      <td>43329</td>\n",
       "      <td>2</td>\n",
       "      <td>2373</td>\n",
       "      <td>974</td>\n",
       "      <td>69</td>\n",
       "      <td>Smiths Chip Thinly  S/Cream&amp;Onion 175g</td>\n",
       "      <td>5</td>\n",
       "      <td>15.0</td>\n",
       "    </tr>\n",
       "    <tr>\n",
       "      <th>4</th>\n",
       "      <td>43330</td>\n",
       "      <td>2</td>\n",
       "      <td>2426</td>\n",
       "      <td>1038</td>\n",
       "      <td>108</td>\n",
       "      <td>Kettle Tortilla ChpsHny&amp;Jlpno Chili 150g</td>\n",
       "      <td>3</td>\n",
       "      <td>13.8</td>\n",
       "    </tr>\n",
       "  </tbody>\n",
       "</table>\n",
       "</div>"
      ],
      "text/plain": [
       "    DATE  STORE_NBR  LYLTY_CARD_NBR  TXN_ID  PROD_NBR  \\\n",
       "0  43390          1            1000       1         5   \n",
       "1  43599          1            1307     348        66   \n",
       "2  43605          1            1343     383        61   \n",
       "3  43329          2            2373     974        69   \n",
       "4  43330          2            2426    1038       108   \n",
       "\n",
       "                                  PROD_NAME  PROD_QTY  TOT_SALES  \n",
       "0    Natural Chip        Compny SeaSalt175g         2        6.0  \n",
       "1                  CCs Nacho Cheese    175g         3        6.3  \n",
       "2    Smiths Crinkle Cut  Chips Chicken 170g         2        2.9  \n",
       "3    Smiths Chip Thinly  S/Cream&Onion 175g         5       15.0  \n",
       "4  Kettle Tortilla ChpsHny&Jlpno Chili 150g         3       13.8  "
      ]
     },
     "execution_count": 5,
     "metadata": {},
     "output_type": "execute_result"
    }
   ],
   "source": [
    "## Examine transaction data for first 5 rows data\n",
    "dataset.head()"
   ]
  },
  {
   "cell_type": "code",
   "execution_count": 6,
   "id": "059330ad",
   "metadata": {},
   "outputs": [
    {
     "data": {
      "text/html": [
       "<div>\n",
       "<style scoped>\n",
       "    .dataframe tbody tr th:only-of-type {\n",
       "        vertical-align: middle;\n",
       "    }\n",
       "\n",
       "    .dataframe tbody tr th {\n",
       "        vertical-align: top;\n",
       "    }\n",
       "\n",
       "    .dataframe thead th {\n",
       "        text-align: right;\n",
       "    }\n",
       "</style>\n",
       "<table border=\"1\" class=\"dataframe\">\n",
       "  <thead>\n",
       "    <tr style=\"text-align: right;\">\n",
       "      <th></th>\n",
       "      <th>DATE</th>\n",
       "      <th>STORE_NBR</th>\n",
       "      <th>LYLTY_CARD_NBR</th>\n",
       "      <th>TXN_ID</th>\n",
       "      <th>PROD_NBR</th>\n",
       "      <th>PROD_NAME</th>\n",
       "      <th>PROD_QTY</th>\n",
       "      <th>TOT_SALES</th>\n",
       "    </tr>\n",
       "  </thead>\n",
       "  <tbody>\n",
       "    <tr>\n",
       "      <th>0</th>\n",
       "      <td>2018-10-17</td>\n",
       "      <td>1</td>\n",
       "      <td>1000</td>\n",
       "      <td>1</td>\n",
       "      <td>5</td>\n",
       "      <td>Natural Chip        Compny SeaSalt175g</td>\n",
       "      <td>2</td>\n",
       "      <td>6.0</td>\n",
       "    </tr>\n",
       "    <tr>\n",
       "      <th>1</th>\n",
       "      <td>2019-05-14</td>\n",
       "      <td>1</td>\n",
       "      <td>1307</td>\n",
       "      <td>348</td>\n",
       "      <td>66</td>\n",
       "      <td>CCs Nacho Cheese    175g</td>\n",
       "      <td>3</td>\n",
       "      <td>6.3</td>\n",
       "    </tr>\n",
       "    <tr>\n",
       "      <th>2</th>\n",
       "      <td>2019-05-20</td>\n",
       "      <td>1</td>\n",
       "      <td>1343</td>\n",
       "      <td>383</td>\n",
       "      <td>61</td>\n",
       "      <td>Smiths Crinkle Cut  Chips Chicken 170g</td>\n",
       "      <td>2</td>\n",
       "      <td>2.9</td>\n",
       "    </tr>\n",
       "    <tr>\n",
       "      <th>3</th>\n",
       "      <td>2018-08-17</td>\n",
       "      <td>2</td>\n",
       "      <td>2373</td>\n",
       "      <td>974</td>\n",
       "      <td>69</td>\n",
       "      <td>Smiths Chip Thinly  S/Cream&amp;Onion 175g</td>\n",
       "      <td>5</td>\n",
       "      <td>15.0</td>\n",
       "    </tr>\n",
       "    <tr>\n",
       "      <th>4</th>\n",
       "      <td>2018-08-18</td>\n",
       "      <td>2</td>\n",
       "      <td>2426</td>\n",
       "      <td>1038</td>\n",
       "      <td>108</td>\n",
       "      <td>Kettle Tortilla ChpsHny&amp;Jlpno Chili 150g</td>\n",
       "      <td>3</td>\n",
       "      <td>13.8</td>\n",
       "    </tr>\n",
       "  </tbody>\n",
       "</table>\n",
       "</div>"
      ],
      "text/plain": [
       "        DATE  STORE_NBR  LYLTY_CARD_NBR  TXN_ID  PROD_NBR  \\\n",
       "0 2018-10-17          1            1000       1         5   \n",
       "1 2019-05-14          1            1307     348        66   \n",
       "2 2019-05-20          1            1343     383        61   \n",
       "3 2018-08-17          2            2373     974        69   \n",
       "4 2018-08-18          2            2426    1038       108   \n",
       "\n",
       "                                  PROD_NAME  PROD_QTY  TOT_SALES  \n",
       "0    Natural Chip        Compny SeaSalt175g         2        6.0  \n",
       "1                  CCs Nacho Cheese    175g         3        6.3  \n",
       "2    Smiths Crinkle Cut  Chips Chicken 170g         2        2.9  \n",
       "3    Smiths Chip Thinly  S/Cream&Onion 175g         5       15.0  \n",
       "4  Kettle Tortilla ChpsHny&Jlpno Chili 150g         3       13.8  "
      ]
     },
     "execution_count": 6,
     "metadata": {},
     "output_type": "execute_result"
    }
   ],
   "source": [
    "## Convert DATE column to a date format\n",
    "dataset['DATE'] = pd.to_datetime(dataset['DATE'], unit='D', origin='1899-12-30')\n",
    "dataset.head()"
   ]
  },
  {
   "cell_type": "code",
   "execution_count": 14,
   "id": "d944e8bb",
   "metadata": {},
   "outputs": [
    {
     "data": {
      "text/plain": [
       "DATE              0\n",
       "STORE_NBR         0\n",
       "LYLTY_CARD_NBR    0\n",
       "TXN_ID            0\n",
       "PROD_NBR          0\n",
       "PROD_NAME         0\n",
       "PROD_QTY          0\n",
       "TOT_SALES         0\n",
       "dtype: int64"
      ]
     },
     "execution_count": 14,
     "metadata": {},
     "output_type": "execute_result"
    }
   ],
   "source": [
    "## Check null value\n",
    "dataset.isnull().sum()"
   ]
  },
  {
   "cell_type": "code",
   "execution_count": 15,
   "id": "0f138a18",
   "metadata": {},
   "outputs": [
    {
     "data": {
      "text/html": [
       "<div>\n",
       "<style scoped>\n",
       "    .dataframe tbody tr th:only-of-type {\n",
       "        vertical-align: middle;\n",
       "    }\n",
       "\n",
       "    .dataframe tbody tr th {\n",
       "        vertical-align: top;\n",
       "    }\n",
       "\n",
       "    .dataframe thead th {\n",
       "        text-align: right;\n",
       "    }\n",
       "</style>\n",
       "<table border=\"1\" class=\"dataframe\">\n",
       "  <thead>\n",
       "    <tr style=\"text-align: right;\">\n",
       "      <th></th>\n",
       "      <th>STORE_NBR</th>\n",
       "      <th>LYLTY_CARD_NBR</th>\n",
       "      <th>TXN_ID</th>\n",
       "      <th>PROD_NBR</th>\n",
       "      <th>PROD_QTY</th>\n",
       "      <th>TOT_SALES</th>\n",
       "    </tr>\n",
       "  </thead>\n",
       "  <tbody>\n",
       "    <tr>\n",
       "      <th>count</th>\n",
       "      <td>264836.00000</td>\n",
       "      <td>2.648360e+05</td>\n",
       "      <td>2.648360e+05</td>\n",
       "      <td>264836.000000</td>\n",
       "      <td>264836.000000</td>\n",
       "      <td>264836.000000</td>\n",
       "    </tr>\n",
       "    <tr>\n",
       "      <th>mean</th>\n",
       "      <td>135.08011</td>\n",
       "      <td>1.355495e+05</td>\n",
       "      <td>1.351583e+05</td>\n",
       "      <td>56.583157</td>\n",
       "      <td>1.907309</td>\n",
       "      <td>7.304200</td>\n",
       "    </tr>\n",
       "    <tr>\n",
       "      <th>std</th>\n",
       "      <td>76.78418</td>\n",
       "      <td>8.057998e+04</td>\n",
       "      <td>7.813303e+04</td>\n",
       "      <td>32.826638</td>\n",
       "      <td>0.643654</td>\n",
       "      <td>3.083226</td>\n",
       "    </tr>\n",
       "    <tr>\n",
       "      <th>min</th>\n",
       "      <td>1.00000</td>\n",
       "      <td>1.000000e+03</td>\n",
       "      <td>1.000000e+00</td>\n",
       "      <td>1.000000</td>\n",
       "      <td>1.000000</td>\n",
       "      <td>1.500000</td>\n",
       "    </tr>\n",
       "    <tr>\n",
       "      <th>25%</th>\n",
       "      <td>70.00000</td>\n",
       "      <td>7.002100e+04</td>\n",
       "      <td>6.760150e+04</td>\n",
       "      <td>28.000000</td>\n",
       "      <td>2.000000</td>\n",
       "      <td>5.400000</td>\n",
       "    </tr>\n",
       "    <tr>\n",
       "      <th>50%</th>\n",
       "      <td>130.00000</td>\n",
       "      <td>1.303575e+05</td>\n",
       "      <td>1.351375e+05</td>\n",
       "      <td>56.000000</td>\n",
       "      <td>2.000000</td>\n",
       "      <td>7.400000</td>\n",
       "    </tr>\n",
       "    <tr>\n",
       "      <th>75%</th>\n",
       "      <td>203.00000</td>\n",
       "      <td>2.030942e+05</td>\n",
       "      <td>2.027012e+05</td>\n",
       "      <td>85.000000</td>\n",
       "      <td>2.000000</td>\n",
       "      <td>9.200000</td>\n",
       "    </tr>\n",
       "    <tr>\n",
       "      <th>max</th>\n",
       "      <td>272.00000</td>\n",
       "      <td>2.373711e+06</td>\n",
       "      <td>2.415841e+06</td>\n",
       "      <td>114.000000</td>\n",
       "      <td>200.000000</td>\n",
       "      <td>650.000000</td>\n",
       "    </tr>\n",
       "  </tbody>\n",
       "</table>\n",
       "</div>"
      ],
      "text/plain": [
       "          STORE_NBR  LYLTY_CARD_NBR        TXN_ID       PROD_NBR  \\\n",
       "count  264836.00000    2.648360e+05  2.648360e+05  264836.000000   \n",
       "mean      135.08011    1.355495e+05  1.351583e+05      56.583157   \n",
       "std        76.78418    8.057998e+04  7.813303e+04      32.826638   \n",
       "min         1.00000    1.000000e+03  1.000000e+00       1.000000   \n",
       "25%        70.00000    7.002100e+04  6.760150e+04      28.000000   \n",
       "50%       130.00000    1.303575e+05  1.351375e+05      56.000000   \n",
       "75%       203.00000    2.030942e+05  2.027012e+05      85.000000   \n",
       "max       272.00000    2.373711e+06  2.415841e+06     114.000000   \n",
       "\n",
       "            PROD_QTY      TOT_SALES  \n",
       "count  264836.000000  264836.000000  \n",
       "mean        1.907309       7.304200  \n",
       "std         0.643654       3.083226  \n",
       "min         1.000000       1.500000  \n",
       "25%         2.000000       5.400000  \n",
       "50%         2.000000       7.400000  \n",
       "75%         2.000000       9.200000  \n",
       "max       200.000000     650.000000  "
      ]
     },
     "execution_count": 15,
     "metadata": {},
     "output_type": "execute_result"
    }
   ],
   "source": [
    "## Check for nulls and possible outliers\n",
    "dataset.describe()"
   ]
  },
  {
   "cell_type": "code",
   "execution_count": 37,
   "id": "b4422dbf",
   "metadata": {},
   "outputs": [
    {
     "data": {
      "text/html": [
       "<div>\n",
       "<style scoped>\n",
       "    .dataframe tbody tr th:only-of-type {\n",
       "        vertical-align: middle;\n",
       "    }\n",
       "\n",
       "    .dataframe tbody tr th {\n",
       "        vertical-align: top;\n",
       "    }\n",
       "\n",
       "    .dataframe thead th {\n",
       "        text-align: right;\n",
       "    }\n",
       "</style>\n",
       "<table border=\"1\" class=\"dataframe\">\n",
       "  <thead>\n",
       "    <tr style=\"text-align: right;\">\n",
       "      <th></th>\n",
       "      <th>DATE</th>\n",
       "      <th>STORE_NBR</th>\n",
       "      <th>LYLTY_CARD_NBR</th>\n",
       "      <th>TXN_ID</th>\n",
       "      <th>PROD_NBR</th>\n",
       "      <th>PROD_NAME</th>\n",
       "      <th>PROD_QTY</th>\n",
       "      <th>TOT_SALES</th>\n",
       "    </tr>\n",
       "  </thead>\n",
       "  <tbody>\n",
       "    <tr>\n",
       "      <th>69762</th>\n",
       "      <td>2018-08-19</td>\n",
       "      <td>226</td>\n",
       "      <td>226000</td>\n",
       "      <td>226201</td>\n",
       "      <td>4</td>\n",
       "      <td>Dorito Corn Chp     Supreme 380g</td>\n",
       "      <td>200</td>\n",
       "      <td>650.0</td>\n",
       "    </tr>\n",
       "    <tr>\n",
       "      <th>69763</th>\n",
       "      <td>2019-05-20</td>\n",
       "      <td>226</td>\n",
       "      <td>226000</td>\n",
       "      <td>226210</td>\n",
       "      <td>4</td>\n",
       "      <td>Dorito Corn Chp     Supreme 380g</td>\n",
       "      <td>200</td>\n",
       "      <td>650.0</td>\n",
       "    </tr>\n",
       "  </tbody>\n",
       "</table>\n",
       "</div>"
      ],
      "text/plain": [
       "            DATE  STORE_NBR  LYLTY_CARD_NBR  TXN_ID  PROD_NBR  \\\n",
       "69762 2018-08-19        226          226000  226201         4   \n",
       "69763 2019-05-20        226          226000  226210         4   \n",
       "\n",
       "                              PROD_NAME  PROD_QTY  TOT_SALES  \n",
       "69762  Dorito Corn Chp     Supreme 380g       200      650.0  \n",
       "69763  Dorito Corn Chp     Supreme 380g       200      650.0  "
      ]
     },
     "execution_count": 37,
     "metadata": {},
     "output_type": "execute_result"
    }
   ],
   "source": [
    "## There are no nulls in the columns but product quantity appears to have an outlier which we should investigate further. \n",
    "## Filter the dataset to find the outlier\n",
    "ft= (dataset['PROD_QTY'] == 200)\n",
    "dataset[ft]"
   ]
  },
  {
   "cell_type": "code",
   "execution_count": 43,
   "id": "4aa33b7e",
   "metadata": {},
   "outputs": [
    {
     "data": {
      "text/plain": [
       "<AxesSubplot: >"
      ]
     },
     "execution_count": 43,
     "metadata": {},
     "output_type": "execute_result"
    },
    {
     "data": {
      "image/png": "[encoded data removed]",
      "text/plain": [
       "<Figure size 640x480 with 1 Axes>"
      ]
     },
     "metadata": {},
     "output_type": "display_data"
    }
   ],
   "source": [
    "## Examine the distribution of PROD_QTY\n",
    "sb.boxplot(dataset.PROD_QTY)"
   ]
  },
  {
   "cell_type": "code",
   "execution_count": 48,
   "id": "d95d7292",
   "metadata": {},
   "outputs": [
    {
     "data": {
      "text/plain": [
       "<AxesSubplot: >"
      ]
     },
     "execution_count": 48,
     "metadata": {},
     "output_type": "execute_result"
    },
    {
     "data": {
      "image/png": "[encoded data removed]",
      "text/plain": [
       "<Figure size 640x480 with 1 Axes>"
      ]
     },
     "metadata": {},
     "output_type": "display_data"
    }
   ],
   "source": [
    "## Examine the distribution of TOT_SALES\n",
    "sb.boxplot(dataset.TOT_SALES)"
   ]
  },
  {
   "cell_type": "code",
   "execution_count": 53,
   "id": "995655b3",
   "metadata": {},
   "outputs": [
    {
     "data": {
      "text/html": [
       "<div>\n",
       "<style scoped>\n",
       "    .dataframe tbody tr th:only-of-type {\n",
       "        vertical-align: middle;\n",
       "    }\n",
       "\n",
       "    .dataframe tbody tr th {\n",
       "        vertical-align: top;\n",
       "    }\n",
       "\n",
       "    .dataframe thead th {\n",
       "        text-align: right;\n",
       "    }\n",
       "</style>\n",
       "<table border=\"1\" class=\"dataframe\">\n",
       "  <thead>\n",
       "    <tr style=\"text-align: right;\">\n",
       "      <th></th>\n",
       "      <th>DATE</th>\n",
       "      <th>STORE_NBR</th>\n",
       "      <th>LYLTY_CARD_NBR</th>\n",
       "      <th>TXN_ID</th>\n",
       "      <th>PROD_NBR</th>\n",
       "      <th>PROD_NAME</th>\n",
       "      <th>PROD_QTY</th>\n",
       "      <th>TOT_SALES</th>\n",
       "    </tr>\n",
       "  </thead>\n",
       "  <tbody>\n",
       "    <tr>\n",
       "      <th>69762</th>\n",
       "      <td>2018-08-19</td>\n",
       "      <td>226</td>\n",
       "      <td>226000</td>\n",
       "      <td>226201</td>\n",
       "      <td>4</td>\n",
       "      <td>Dorito Corn Chp     Supreme 380g</td>\n",
       "      <td>200</td>\n",
       "      <td>650.0</td>\n",
       "    </tr>\n",
       "    <tr>\n",
       "      <th>69763</th>\n",
       "      <td>2019-05-20</td>\n",
       "      <td>226</td>\n",
       "      <td>226000</td>\n",
       "      <td>226210</td>\n",
       "      <td>4</td>\n",
       "      <td>Dorito Corn Chp     Supreme 380g</td>\n",
       "      <td>200</td>\n",
       "      <td>650.0</td>\n",
       "    </tr>\n",
       "  </tbody>\n",
       "</table>\n",
       "</div>"
      ],
      "text/plain": [
       "            DATE  STORE_NBR  LYLTY_CARD_NBR  TXN_ID  PROD_NBR  \\\n",
       "69762 2018-08-19        226          226000  226201         4   \n",
       "69763 2019-05-20        226          226000  226210         4   \n",
       "\n",
       "                              PROD_NAME  PROD_QTY  TOT_SALES  \n",
       "69762  Dorito Corn Chp     Supreme 380g       200      650.0  \n",
       "69763  Dorito Corn Chp     Supreme 380g       200      650.0  "
      ]
     },
     "execution_count": 53,
     "metadata": {},
     "output_type": "execute_result"
    }
   ],
   "source": [
    "## There are two transactions where 200 packets of chips are bought in one transaction.\n",
    "## Both of these transactions where by the same customer.\n",
    "## Let's see if the customer has had other transactions\n",
    "ft= (dataset['LYLTY_CARD_NBR'] == 226000)\n",
    "dataset[ft]"
   ]
  },
  {
   "cell_type": "code",
   "execution_count": null,
   "id": "c447025e",
   "metadata": {},
   "outputs": [],
   "source": [
    "It looks like this customer has only had the two transactions over the year and is not an ordinary retail\n",
    "customer. The customer might be buying chips for commercial purposes instead. We’ll remove this loyalty\n",
    "card number from further analysis."
   ]
  },
  {
   "cell_type": "code",
   "execution_count": 7,
   "id": "e70d2b88",
   "metadata": {},
   "outputs": [
    {
     "data": {
      "text/html": [
       "<div>\n",
       "<style scoped>\n",
       "    .dataframe tbody tr th:only-of-type {\n",
       "        vertical-align: middle;\n",
       "    }\n",
       "\n",
       "    .dataframe tbody tr th {\n",
       "        vertical-align: top;\n",
       "    }\n",
       "\n",
       "    .dataframe thead th {\n",
       "        text-align: right;\n",
       "    }\n",
       "</style>\n",
       "<table border=\"1\" class=\"dataframe\">\n",
       "  <thead>\n",
       "    <tr style=\"text-align: right;\">\n",
       "      <th></th>\n",
       "      <th>STORE_NBR</th>\n",
       "      <th>LYLTY_CARD_NBR</th>\n",
       "      <th>TXN_ID</th>\n",
       "      <th>PROD_NBR</th>\n",
       "      <th>PROD_QTY</th>\n",
       "      <th>TOT_SALES</th>\n",
       "    </tr>\n",
       "  </thead>\n",
       "  <tbody>\n",
       "    <tr>\n",
       "      <th>count</th>\n",
       "      <td>264834.000000</td>\n",
       "      <td>2.648340e+05</td>\n",
       "      <td>2.648340e+05</td>\n",
       "      <td>264834.000000</td>\n",
       "      <td>264834.000000</td>\n",
       "      <td>264834.000000</td>\n",
       "    </tr>\n",
       "    <tr>\n",
       "      <th>mean</th>\n",
       "      <td>135.079423</td>\n",
       "      <td>1.355488e+05</td>\n",
       "      <td>1.351576e+05</td>\n",
       "      <td>56.583554</td>\n",
       "      <td>1.905813</td>\n",
       "      <td>7.299346</td>\n",
       "    </tr>\n",
       "    <tr>\n",
       "      <th>std</th>\n",
       "      <td>76.784063</td>\n",
       "      <td>8.057990e+04</td>\n",
       "      <td>7.813292e+04</td>\n",
       "      <td>32.826444</td>\n",
       "      <td>0.343436</td>\n",
       "      <td>2.527241</td>\n",
       "    </tr>\n",
       "    <tr>\n",
       "      <th>min</th>\n",
       "      <td>1.000000</td>\n",
       "      <td>1.000000e+03</td>\n",
       "      <td>1.000000e+00</td>\n",
       "      <td>1.000000</td>\n",
       "      <td>1.000000</td>\n",
       "      <td>1.500000</td>\n",
       "    </tr>\n",
       "    <tr>\n",
       "      <th>25%</th>\n",
       "      <td>70.000000</td>\n",
       "      <td>7.002100e+04</td>\n",
       "      <td>6.760050e+04</td>\n",
       "      <td>28.000000</td>\n",
       "      <td>2.000000</td>\n",
       "      <td>5.400000</td>\n",
       "    </tr>\n",
       "    <tr>\n",
       "      <th>50%</th>\n",
       "      <td>130.000000</td>\n",
       "      <td>1.303570e+05</td>\n",
       "      <td>1.351365e+05</td>\n",
       "      <td>56.000000</td>\n",
       "      <td>2.000000</td>\n",
       "      <td>7.400000</td>\n",
       "    </tr>\n",
       "    <tr>\n",
       "      <th>75%</th>\n",
       "      <td>203.000000</td>\n",
       "      <td>2.030940e+05</td>\n",
       "      <td>2.026998e+05</td>\n",
       "      <td>85.000000</td>\n",
       "      <td>2.000000</td>\n",
       "      <td>9.200000</td>\n",
       "    </tr>\n",
       "    <tr>\n",
       "      <th>max</th>\n",
       "      <td>272.000000</td>\n",
       "      <td>2.373711e+06</td>\n",
       "      <td>2.415841e+06</td>\n",
       "      <td>114.000000</td>\n",
       "      <td>5.000000</td>\n",
       "      <td>29.500000</td>\n",
       "    </tr>\n",
       "  </tbody>\n",
       "</table>\n",
       "</div>"
      ],
      "text/plain": [
       "           STORE_NBR  LYLTY_CARD_NBR        TXN_ID       PROD_NBR  \\\n",
       "count  264834.000000    2.648340e+05  2.648340e+05  264834.000000   \n",
       "mean      135.079423    1.355488e+05  1.351576e+05      56.583554   \n",
       "std        76.784063    8.057990e+04  7.813292e+04      32.826444   \n",
       "min         1.000000    1.000000e+03  1.000000e+00       1.000000   \n",
       "25%        70.000000    7.002100e+04  6.760050e+04      28.000000   \n",
       "50%       130.000000    1.303570e+05  1.351365e+05      56.000000   \n",
       "75%       203.000000    2.030940e+05  2.026998e+05      85.000000   \n",
       "max       272.000000    2.373711e+06  2.415841e+06     114.000000   \n",
       "\n",
       "            PROD_QTY      TOT_SALES  \n",
       "count  264834.000000  264834.000000  \n",
       "mean        1.905813       7.299346  \n",
       "std         0.343436       2.527241  \n",
       "min         1.000000       1.500000  \n",
       "25%         2.000000       5.400000  \n",
       "50%         2.000000       7.400000  \n",
       "75%         2.000000       9.200000  \n",
       "max         5.000000      29.500000  "
      ]
     },
     "execution_count": 7,
     "metadata": {},
     "output_type": "execute_result"
    }
   ],
   "source": [
    "## Filter out the customer based on the loyalty card number\n",
    "ft= (dataset['LYLTY_CARD_NBR'] != 226000)\n",
    "dataset= dataset[ft]\n",
    "\n",
    "## Re‐examine transaction data\n",
    "dataset.describe()"
   ]
  },
  {
   "cell_type": "code",
   "execution_count": 143,
   "id": "6bd9b1e2",
   "metadata": {},
   "outputs": [
    {
     "data": {
      "text/plain": [
       "DATE\n",
       "2018-07-01    724\n",
       "2018-07-02    711\n",
       "2018-07-03    722\n",
       "2018-07-04    714\n",
       "2018-07-05    712\n",
       "             ... \n",
       "2019-06-26    723\n",
       "2019-06-27    709\n",
       "2019-06-28    730\n",
       "2019-06-29    745\n",
       "2019-06-30    744\n",
       "Length: 364, dtype: int64"
      ]
     },
     "execution_count": 143,
     "metadata": {},
     "output_type": "execute_result"
    }
   ],
   "source": [
    "## Count the number of transactions by date\n",
    "dataset.groupby('DATE').size()"
   ]
  },
  {
   "cell_type": "code",
   "execution_count": 8,
   "id": "f1c16157",
   "metadata": {},
   "outputs": [
    {
     "data": {
      "text/plain": [
       "[<matplotlib.lines.Line2D at 0x1f3408de920>]"
      ]
     },
     "execution_count": 8,
     "metadata": {},
     "output_type": "execute_result"
    },
    {
     "data": {
      "image/png": "[encoded data removed]",
      "text/plain": [
       "<Figure size 640x480 with 1 Axes>"
      ]
     },
     "metadata": {},
     "output_type": "display_data"
    }
   ],
   "source": [
    "import matplotlib.pyplot as plt\n",
    "import matplotlib.dates as mdates\n",
    "df= dataset.groupby('DATE').size()\n",
    "ax = plt.gca()\n",
    "ax.xaxis.set_major_locator(mdates.MonthLocator(interval=1))\n",
    "ax.xaxis.set_major_formatter(mdates.DateFormatter('%d-%m-%Y'))\n",
    "plt.gcf().autofmt_xdate() \n",
    "plt.plot(df)"
   ]
  },
  {
   "cell_type": "code",
   "execution_count": 9,
   "id": "7040c8a5",
   "metadata": {},
   "outputs": [
    {
     "name": "stdout",
     "output_type": "stream",
     "text": [
      "DatetimeIndex(['2018-12-25'], dtype='datetime64[ns]', freq=None)\n"
     ]
    }
   ],
   "source": [
    "## find out the missing date\n",
    "time_range = pd.date_range(start=\"2018-07-01\", end=\"2019-06-30\")\n",
    "print(time_range.difference(dataset['DATE']))"
   ]
  },
  {
   "cell_type": "code",
   "execution_count": null,
   "id": "87658a6f",
   "metadata": {},
   "outputs": [],
   "source": [
    "The increase in sales occurs in the lead-up to Christmas and that there are zero sales on\n",
    "Christmas day itself. This is due to shops being closed on Christmas day."
   ]
  },
  {
   "cell_type": "code",
   "execution_count": 186,
   "id": "39f29a2f",
   "metadata": {},
   "outputs": [
    {
     "name": "stdout",
     "output_type": "stream",
     "text": [
      "   pack_size  counts\n",
      "0        110   22387\n",
      "1        125    1454\n",
      "2        134   25102\n",
      "3        135    3257\n",
      "4        150   43131\n",
      "5        160    2970\n",
      "6        165   15297\n",
      "7        170   19983\n",
      "8        175   66390\n",
      "9        180    1468\n",
      "10       190    2995\n",
      "11       200    4473\n",
      "12       210    6272\n",
      "13       220    1564\n",
      "14       250    3169\n",
      "15       270    6285\n",
      "16       300   15166\n",
      "17       330   12540\n",
      "18       380    6416\n",
      "19        70    1507\n",
      "20        90    3008\n"
     ]
    }
   ],
   "source": [
    "## Check if the pack sizes look sensible\n",
    "dataset['pack_size']= dataset.PROD_NAME.str.extract('(\\d+)')\n",
    "df= dataset.groupby('pack_size', as_index=False).size()\n",
    "df.columns=['pack_size','counts']\n",
    "print(df)"
   ]
  },
  {
   "cell_type": "code",
   "execution_count": 49,
   "id": "36ef3968",
   "metadata": {},
   "outputs": [
    {
     "data": {
      "text/html": [
       "<div>\n",
       "<style scoped>\n",
       "    .dataframe tbody tr th:only-of-type {\n",
       "        vertical-align: middle;\n",
       "    }\n",
       "\n",
       "    .dataframe tbody tr th {\n",
       "        vertical-align: top;\n",
       "    }\n",
       "\n",
       "    .dataframe thead th {\n",
       "        text-align: right;\n",
       "    }\n",
       "</style>\n",
       "<table border=\"1\" class=\"dataframe\">\n",
       "  <thead>\n",
       "    <tr style=\"text-align: right;\">\n",
       "      <th></th>\n",
       "      <th>pack_size</th>\n",
       "      <th>PROD_NAME</th>\n",
       "    </tr>\n",
       "  </thead>\n",
       "  <tbody>\n",
       "    <tr>\n",
       "      <th>0</th>\n",
       "      <td>175</td>\n",
       "      <td>Natural Chip        Compny SeaSalt175g</td>\n",
       "    </tr>\n",
       "    <tr>\n",
       "      <th>1</th>\n",
       "      <td>175</td>\n",
       "      <td>CCs Nacho Cheese    175g</td>\n",
       "    </tr>\n",
       "    <tr>\n",
       "      <th>2</th>\n",
       "      <td>170</td>\n",
       "      <td>Smiths Crinkle Cut  Chips Chicken 170g</td>\n",
       "    </tr>\n",
       "    <tr>\n",
       "      <th>3</th>\n",
       "      <td>175</td>\n",
       "      <td>Smiths Chip Thinly  S/Cream&amp;Onion 175g</td>\n",
       "    </tr>\n",
       "    <tr>\n",
       "      <th>4</th>\n",
       "      <td>150</td>\n",
       "      <td>Kettle Tortilla ChpsHny&amp;Jlpno Chili 150g</td>\n",
       "    </tr>\n",
       "  </tbody>\n",
       "</table>\n",
       "</div>"
      ],
      "text/plain": [
       "  pack_size                                 PROD_NAME\n",
       "0       175    Natural Chip        Compny SeaSalt175g\n",
       "1       175                  CCs Nacho Cheese    175g\n",
       "2       170    Smiths Crinkle Cut  Chips Chicken 170g\n",
       "3       175    Smiths Chip Thinly  S/Cream&Onion 175g\n",
       "4       150  Kettle Tortilla ChpsHny&Jlpno Chili 150g"
      ]
     },
     "execution_count": 49,
     "metadata": {},
     "output_type": "execute_result"
    }
   ],
   "source": [
    "## Check the output of the first few rows to see if we have indeed picked out pack size.\n",
    "dataset['pack_size']= dataset.PROD_NAME.str.extract('(\\d+)')\n",
    "dataset[['pack_size','PROD_NAME']].head()"
   ]
  },
  {
   "cell_type": "code",
   "execution_count": 183,
   "id": "e86746b2",
   "metadata": {},
   "outputs": [
    {
     "data": {
      "text/plain": [
       "Text(0, 0.5, 'Conuts')"
      ]
     },
     "execution_count": 183,
     "metadata": {},
     "output_type": "execute_result"
    },
    {
     "data": {
      "image/png": "[encoded data removed]",
      "text/plain": [
       "<Figure size 640x480 with 1 Axes>"
      ]
     },
     "metadata": {},
     "output_type": "display_data"
    }
   ],
   "source": [
    "## Let's plot a histogram of PACK_SIZE since we know that it is a categorical variable and not a continuous variable even though it is numeric.\n",
    "import matplotlib.pyplot as plt\n",
    "import numpy as np\n",
    "#count amounts for each pack size\n",
    "df= dataset.groupby('pack_size', as_index=True).size()\n",
    "#convert index(str) into values(int) for better sorting \n",
    "df.index = df.index.astype(int)\n",
    "df=df.sort_index(ascending=True)\n",
    "#plot bar chart\n",
    "df.plot(kind='bar', width=1)\n",
    "plt.xlabel('Pack_size')\n",
    "plt.ylabel('Conuts')\n",
    "\n",
    "\n",
    "\n"
   ]
  },
  {
   "cell_type": "code",
   "execution_count": 210,
   "id": "ffc91274",
   "metadata": {},
   "outputs": [
    {
     "data": {
      "text/plain": [
       "Brand\n",
       "Burger         1564\n",
       "CCs            4551\n",
       "Cheetos        2927\n",
       "Cheezels       4603\n",
       "Cobs           9693\n",
       "Dorito         3183\n",
       "Doritos       24962\n",
       "French         1418\n",
       "Grain          6272\n",
       "GrnWves        1468\n",
       "Infuzions     11057\n",
       "Infzns         3144\n",
       "Kettle        41288\n",
       "NCC            1419\n",
       "Natural        6050\n",
       "Old            9324\n",
       "Pringles      25102\n",
       "RRD           11894\n",
       "Red            5885\n",
       "Smith          2963\n",
       "Smiths        28860\n",
       "Snbts          1576\n",
       "Sunbites       1432\n",
       "Thins         14075\n",
       "Tostitos       9471\n",
       "Twisties       9454\n",
       "Tyrrells       6442\n",
       "WW            10320\n",
       "Woolworths     4437\n",
       "dtype: int64"
      ]
     },
     "execution_count": 210,
     "metadata": {},
     "output_type": "execute_result"
    }
   ],
   "source": [
    "## Create new column for Brands\n",
    "dataset['Brand'] = dataset['PROD_NAME'].str.split(' ').str[0]\n",
    "## Count amount for each brand\n",
    "df= dataset.groupby('Brand', as_index=True).size()\n",
    "df.sort_index()"
   ]
  },
  {
   "cell_type": "code",
   "execution_count": null,
   "id": "7d8a07c3",
   "metadata": {},
   "outputs": [],
   "source": [
    "Some of the brand names look like they are of the same brands, such as WW and Woolworths"
   ]
  },
  {
   "cell_type": "code",
   "execution_count": 216,
   "id": "333a41a8",
   "metadata": {},
   "outputs": [],
   "source": [
    "## Clean brand names\n",
    "dataset.PROD_NAME.replace({'WW':'Woolworths','Dorito':'Doritos','Infzns':'Infuzions','Red':'RRD','Smith':'Smiths','Snbts':'Sunbites','NCC':'Natural'}, regex=True, inplace=True)"
   ]
  },
  {
   "cell_type": "code",
   "execution_count": 220,
   "id": "b0f58a80",
   "metadata": {},
   "outputs": [
    {
     "data": {
      "text/plain": [
       "Brand\n",
       "Burger         1564\n",
       "CCs            4551\n",
       "Cheetos        2927\n",
       "Cheezels       4603\n",
       "Cobs           9693\n",
       "Doritos       28145\n",
       "French         1418\n",
       "GrnWves        7740\n",
       "Infuzions     14201\n",
       "Kettle        41288\n",
       "Natural        7469\n",
       "Old            9324\n",
       "Pringles      25102\n",
       "RRD           17779\n",
       "Smiths        31823\n",
       "Sunbites       3008\n",
       "Thins         14075\n",
       "Tostitos       9471\n",
       "Twisties       9454\n",
       "Tyrrells       6442\n",
       "Woolworths    14757\n",
       "dtype: int64"
      ]
     },
     "execution_count": 220,
     "metadata": {},
     "output_type": "execute_result"
    }
   ],
   "source": [
    "## Check again\n",
    "dataset['Brand'] = dataset['PROD_NAME'].str.split(' ').str[0]\n",
    "## Count amount for each brand\n",
    "df= dataset.groupby('Brand', as_index=True).size()\n",
    "df.sort_index()"
   ]
  },
  {
   "cell_type": "code",
   "execution_count": 221,
   "id": "9f53f6f6",
   "metadata": {},
   "outputs": [],
   "source": [
    "## Examining customer data\n",
    "dataset_2 = pd.read_csv('QVI_purchase_behaviour.csv')"
   ]
  },
  {
   "cell_type": "code",
   "execution_count": 222,
   "id": "d91ebc5e",
   "metadata": {},
   "outputs": [
    {
     "data": {
      "text/html": [
       "<div>\n",
       "<style scoped>\n",
       "    .dataframe tbody tr th:only-of-type {\n",
       "        vertical-align: middle;\n",
       "    }\n",
       "\n",
       "    .dataframe tbody tr th {\n",
       "        vertical-align: top;\n",
       "    }\n",
       "\n",
       "    .dataframe thead th {\n",
       "        text-align: right;\n",
       "    }\n",
       "</style>\n",
       "<table border=\"1\" class=\"dataframe\">\n",
       "  <thead>\n",
       "    <tr style=\"text-align: right;\">\n",
       "      <th></th>\n",
       "      <th>LYLTY_CARD_NBR</th>\n",
       "      <th>LIFESTAGE</th>\n",
       "      <th>PREMIUM_CUSTOMER</th>\n",
       "    </tr>\n",
       "  </thead>\n",
       "  <tbody>\n",
       "    <tr>\n",
       "      <th>0</th>\n",
       "      <td>1000</td>\n",
       "      <td>YOUNG SINGLES/COUPLES</td>\n",
       "      <td>Premium</td>\n",
       "    </tr>\n",
       "    <tr>\n",
       "      <th>1</th>\n",
       "      <td>1002</td>\n",
       "      <td>YOUNG SINGLES/COUPLES</td>\n",
       "      <td>Mainstream</td>\n",
       "    </tr>\n",
       "    <tr>\n",
       "      <th>2</th>\n",
       "      <td>1003</td>\n",
       "      <td>YOUNG FAMILIES</td>\n",
       "      <td>Budget</td>\n",
       "    </tr>\n",
       "    <tr>\n",
       "      <th>3</th>\n",
       "      <td>1004</td>\n",
       "      <td>OLDER SINGLES/COUPLES</td>\n",
       "      <td>Mainstream</td>\n",
       "    </tr>\n",
       "    <tr>\n",
       "      <th>4</th>\n",
       "      <td>1005</td>\n",
       "      <td>MIDAGE SINGLES/COUPLES</td>\n",
       "      <td>Mainstream</td>\n",
       "    </tr>\n",
       "  </tbody>\n",
       "</table>\n",
       "</div>"
      ],
      "text/plain": [
       "   LYLTY_CARD_NBR               LIFESTAGE PREMIUM_CUSTOMER\n",
       "0            1000   YOUNG SINGLES/COUPLES          Premium\n",
       "1            1002   YOUNG SINGLES/COUPLES       Mainstream\n",
       "2            1003          YOUNG FAMILIES           Budget\n",
       "3            1004   OLDER SINGLES/COUPLES       Mainstream\n",
       "4            1005  MIDAGE SINGLES/COUPLES       Mainstream"
      ]
     },
     "execution_count": 222,
     "metadata": {},
     "output_type": "execute_result"
    }
   ],
   "source": [
    "## Examine customer data for first 5 rows data\n",
    "dataset_2.head()"
   ]
  },
  {
   "cell_type": "code",
   "execution_count": 223,
   "id": "a4211ad9",
   "metadata": {},
   "outputs": [
    {
     "data": {
      "text/plain": [
       "LYLTY_CARD_NBR      0\n",
       "LIFESTAGE           0\n",
       "PREMIUM_CUSTOMER    0\n",
       "dtype: int64"
      ]
     },
     "execution_count": 223,
     "metadata": {},
     "output_type": "execute_result"
    }
   ],
   "source": [
    "## Check null value\n",
    "dataset_2.isnull().sum()"
   ]
  },
  {
   "cell_type": "code",
   "execution_count": 225,
   "id": "5f41b636",
   "metadata": {},
   "outputs": [
    {
     "name": "stdout",
     "output_type": "stream",
     "text": [
      "<class 'pandas.core.frame.DataFrame'>\n",
      "RangeIndex: 72637 entries, 0 to 72636\n",
      "Data columns (total 3 columns):\n",
      " #   Column            Non-Null Count  Dtype \n",
      "---  ------            --------------  ----- \n",
      " 0   LYLTY_CARD_NBR    72637 non-null  int64 \n",
      " 1   LIFESTAGE         72637 non-null  object\n",
      " 2   PREMIUM_CUSTOMER  72637 non-null  object\n",
      "dtypes: int64(1), object(2)\n",
      "memory usage: 1.7+ MB\n"
     ]
    }
   ],
   "source": [
    "## Check for nulls and possible outliers\n",
    "dataset_2.info()"
   ]
  },
  {
   "cell_type": "code",
   "execution_count": 241,
   "id": "4f186587",
   "metadata": {},
   "outputs": [
    {
     "data": {
      "text/html": [
       "<div>\n",
       "<style scoped>\n",
       "    .dataframe tbody tr th:only-of-type {\n",
       "        vertical-align: middle;\n",
       "    }\n",
       "\n",
       "    .dataframe tbody tr th {\n",
       "        vertical-align: top;\n",
       "    }\n",
       "\n",
       "    .dataframe thead th {\n",
       "        text-align: right;\n",
       "    }\n",
       "</style>\n",
       "<table border=\"1\" class=\"dataframe\">\n",
       "  <thead>\n",
       "    <tr style=\"text-align: right;\">\n",
       "      <th></th>\n",
       "      <th>LIFESTAGE</th>\n",
       "      <th>size</th>\n",
       "    </tr>\n",
       "  </thead>\n",
       "  <tbody>\n",
       "    <tr>\n",
       "      <th>0</th>\n",
       "      <td>RETIREES</td>\n",
       "      <td>14805</td>\n",
       "    </tr>\n",
       "    <tr>\n",
       "      <th>1</th>\n",
       "      <td>OLDER SINGLES/COUPLES</td>\n",
       "      <td>14609</td>\n",
       "    </tr>\n",
       "    <tr>\n",
       "      <th>2</th>\n",
       "      <td>YOUNG SINGLES/COUPLES</td>\n",
       "      <td>14441</td>\n",
       "    </tr>\n",
       "    <tr>\n",
       "      <th>3</th>\n",
       "      <td>OLDER FAMILIES</td>\n",
       "      <td>9780</td>\n",
       "    </tr>\n",
       "    <tr>\n",
       "      <th>4</th>\n",
       "      <td>YOUNG FAMILIES</td>\n",
       "      <td>9178</td>\n",
       "    </tr>\n",
       "    <tr>\n",
       "      <th>5</th>\n",
       "      <td>MIDAGE SINGLES/COUPLES</td>\n",
       "      <td>7275</td>\n",
       "    </tr>\n",
       "    <tr>\n",
       "      <th>6</th>\n",
       "      <td>NEW FAMILIES</td>\n",
       "      <td>2549</td>\n",
       "    </tr>\n",
       "  </tbody>\n",
       "</table>\n",
       "</div>"
      ],
      "text/plain": [
       "                LIFESTAGE   size\n",
       "0                RETIREES  14805\n",
       "1   OLDER SINGLES/COUPLES  14609\n",
       "2   YOUNG SINGLES/COUPLES  14441\n",
       "3          OLDER FAMILIES   9780\n",
       "4          YOUNG FAMILIES   9178\n",
       "5  MIDAGE SINGLES/COUPLES   7275\n",
       "6            NEW FAMILIES   2549"
      ]
     },
     "execution_count": 241,
     "metadata": {},
     "output_type": "execute_result"
    }
   ],
   "source": [
    "## Examining the values of lifestage and premium_customer\n",
    "df= dataset_2.groupby('LIFESTAGE', as_index=False).size()\n",
    "df.sort_values(by=['size'], ascending=False).reset_index(drop=True)"
   ]
  },
  {
   "cell_type": "code",
   "execution_count": 242,
   "id": "98cd6a66",
   "metadata": {},
   "outputs": [
    {
     "data": {
      "text/html": [
       "<div>\n",
       "<style scoped>\n",
       "    .dataframe tbody tr th:only-of-type {\n",
       "        vertical-align: middle;\n",
       "    }\n",
       "\n",
       "    .dataframe tbody tr th {\n",
       "        vertical-align: top;\n",
       "    }\n",
       "\n",
       "    .dataframe thead th {\n",
       "        text-align: right;\n",
       "    }\n",
       "</style>\n",
       "<table border=\"1\" class=\"dataframe\">\n",
       "  <thead>\n",
       "    <tr style=\"text-align: right;\">\n",
       "      <th></th>\n",
       "      <th>PREMIUM_CUSTOMER</th>\n",
       "      <th>size</th>\n",
       "    </tr>\n",
       "  </thead>\n",
       "  <tbody>\n",
       "    <tr>\n",
       "      <th>0</th>\n",
       "      <td>Mainstream</td>\n",
       "      <td>29245</td>\n",
       "    </tr>\n",
       "    <tr>\n",
       "      <th>1</th>\n",
       "      <td>Budget</td>\n",
       "      <td>24470</td>\n",
       "    </tr>\n",
       "    <tr>\n",
       "      <th>2</th>\n",
       "      <td>Premium</td>\n",
       "      <td>18922</td>\n",
       "    </tr>\n",
       "  </tbody>\n",
       "</table>\n",
       "</div>"
      ],
      "text/plain": [
       "  PREMIUM_CUSTOMER   size\n",
       "0       Mainstream  29245\n",
       "1           Budget  24470\n",
       "2          Premium  18922"
      ]
     },
     "execution_count": 242,
     "metadata": {},
     "output_type": "execute_result"
    }
   ],
   "source": [
    "df= dataset_2.groupby('PREMIUM_CUSTOMER', as_index=False).size()\n",
    "df.sort_values(by=['size'], ascending=False).reset_index(drop=True)"
   ]
  },
  {
   "cell_type": "code",
   "execution_count": 244,
   "id": "3b95cc90",
   "metadata": {},
   "outputs": [
    {
     "data": {
      "text/html": [
       "<div>\n",
       "<style scoped>\n",
       "    .dataframe tbody tr th:only-of-type {\n",
       "        vertical-align: middle;\n",
       "    }\n",
       "\n",
       "    .dataframe tbody tr th {\n",
       "        vertical-align: top;\n",
       "    }\n",
       "\n",
       "    .dataframe thead th {\n",
       "        text-align: right;\n",
       "    }\n",
       "</style>\n",
       "<table border=\"1\" class=\"dataframe\">\n",
       "  <thead>\n",
       "    <tr style=\"text-align: right;\">\n",
       "      <th></th>\n",
       "      <th>LYLTY_CARD_NBR</th>\n",
       "      <th>LIFESTAGE</th>\n",
       "      <th>PREMIUM_CUSTOMER</th>\n",
       "    </tr>\n",
       "  </thead>\n",
       "  <tbody>\n",
       "  </tbody>\n",
       "</table>\n",
       "</div>"
      ],
      "text/plain": [
       "Empty DataFrame\n",
       "Columns: [LYLTY_CARD_NBR, LIFESTAGE, PREMIUM_CUSTOMER]\n",
       "Index: []"
      ]
     },
     "execution_count": 244,
     "metadata": {},
     "output_type": "execute_result"
    }
   ],
   "source": [
    "## check if LYLTY_CARD_NBR has dupo values\n",
    "mask= dataset_2['LYLTY_CARD_NBR'].duplicated()\n",
    "dataset_2"
   ]
  },
  {
   "cell_type": "code",
   "execution_count": 246,
   "id": "9ddc15d3",
   "metadata": {},
   "outputs": [
    {
     "data": {
      "text/html": [
       "<div>\n",
       "<style scoped>\n",
       "    .dataframe tbody tr th:only-of-type {\n",
       "        vertical-align: middle;\n",
       "    }\n",
       "\n",
       "    .dataframe tbody tr th {\n",
       "        vertical-align: top;\n",
       "    }\n",
       "\n",
       "    .dataframe thead th {\n",
       "        text-align: right;\n",
       "    }\n",
       "</style>\n",
       "<table border=\"1\" class=\"dataframe\">\n",
       "  <thead>\n",
       "    <tr style=\"text-align: right;\">\n",
       "      <th></th>\n",
       "      <th>LYLTY_CARD_NBR</th>\n",
       "      <th>size</th>\n",
       "    </tr>\n",
       "  </thead>\n",
       "  <tbody>\n",
       "    <tr>\n",
       "      <th>0</th>\n",
       "      <td>1000</td>\n",
       "      <td>1</td>\n",
       "    </tr>\n",
       "    <tr>\n",
       "      <th>1</th>\n",
       "      <td>1002</td>\n",
       "      <td>1</td>\n",
       "    </tr>\n",
       "    <tr>\n",
       "      <th>2</th>\n",
       "      <td>1003</td>\n",
       "      <td>2</td>\n",
       "    </tr>\n",
       "    <tr>\n",
       "      <th>3</th>\n",
       "      <td>1004</td>\n",
       "      <td>1</td>\n",
       "    </tr>\n",
       "    <tr>\n",
       "      <th>4</th>\n",
       "      <td>1005</td>\n",
       "      <td>1</td>\n",
       "    </tr>\n",
       "    <tr>\n",
       "      <th>...</th>\n",
       "      <td>...</td>\n",
       "      <td>...</td>\n",
       "    </tr>\n",
       "    <tr>\n",
       "      <th>72631</th>\n",
       "      <td>2370651</td>\n",
       "      <td>1</td>\n",
       "    </tr>\n",
       "    <tr>\n",
       "      <th>72632</th>\n",
       "      <td>2370701</td>\n",
       "      <td>1</td>\n",
       "    </tr>\n",
       "    <tr>\n",
       "      <th>72633</th>\n",
       "      <td>2370751</td>\n",
       "      <td>1</td>\n",
       "    </tr>\n",
       "    <tr>\n",
       "      <th>72634</th>\n",
       "      <td>2370961</td>\n",
       "      <td>2</td>\n",
       "    </tr>\n",
       "    <tr>\n",
       "      <th>72635</th>\n",
       "      <td>2373711</td>\n",
       "      <td>1</td>\n",
       "    </tr>\n",
       "  </tbody>\n",
       "</table>\n",
       "<p>72636 rows × 2 columns</p>\n",
       "</div>"
      ],
      "text/plain": [
       "       LYLTY_CARD_NBR  size\n",
       "0                1000     1\n",
       "1                1002     1\n",
       "2                1003     2\n",
       "3                1004     1\n",
       "4                1005     1\n",
       "...               ...   ...\n",
       "72631         2370651     1\n",
       "72632         2370701     1\n",
       "72633         2370751     1\n",
       "72634         2370961     2\n",
       "72635         2373711     1\n",
       "\n",
       "[72636 rows x 2 columns]"
      ]
     },
     "execution_count": 246,
     "metadata": {},
     "output_type": "execute_result"
    }
   ],
   "source": [
    "dataset.groupby('LYLTY_CARD_NBR', as_index=False).size()"
   ]
  },
  {
   "cell_type": "code",
   "execution_count": 250,
   "id": "b6409b7f",
   "metadata": {},
   "outputs": [
    {
     "data": {
      "text/html": [
       "<div>\n",
       "<style scoped>\n",
       "    .dataframe tbody tr th:only-of-type {\n",
       "        vertical-align: middle;\n",
       "    }\n",
       "\n",
       "    .dataframe tbody tr th {\n",
       "        vertical-align: top;\n",
       "    }\n",
       "\n",
       "    .dataframe thead th {\n",
       "        text-align: right;\n",
       "    }\n",
       "</style>\n",
       "<table border=\"1\" class=\"dataframe\">\n",
       "  <thead>\n",
       "    <tr style=\"text-align: right;\">\n",
       "      <th></th>\n",
       "      <th>LYLTY_CARD_NBR</th>\n",
       "      <th>LIFESTAGE</th>\n",
       "      <th>PREMIUM_CUSTOMER</th>\n",
       "    </tr>\n",
       "  </thead>\n",
       "  <tbody>\n",
       "    <tr>\n",
       "      <th>59694</th>\n",
       "      <td>226000</td>\n",
       "      <td>OLDER FAMILIES</td>\n",
       "      <td>Premium</td>\n",
       "    </tr>\n",
       "  </tbody>\n",
       "</table>\n",
       "</div>"
      ],
      "text/plain": [
       "       LYLTY_CARD_NBR       LIFESTAGE PREMIUM_CUSTOMER\n",
       "59694          226000  OLDER FAMILIES          Premium"
      ]
     },
     "execution_count": 250,
     "metadata": {},
     "output_type": "execute_result"
    }
   ],
   "source": [
    "## find out the missing member, and the missing one is actually the one that hed been deleted.\n",
    "id = dataset['LYLTY_CARD_NBR']\n",
    "dataset_2.LYLTY_CARD_NBR.isin(id)\n",
    "dataset_2[~dataset_2.LYLTY_CARD_NBR.isin(id)]"
   ]
  },
  {
   "cell_type": "code",
   "execution_count": 254,
   "id": "5a9ad876",
   "metadata": {
    "scrolled": true
   },
   "outputs": [
    {
     "data": {
      "text/html": [
       "<div>\n",
       "<style scoped>\n",
       "    .dataframe tbody tr th:only-of-type {\n",
       "        vertical-align: middle;\n",
       "    }\n",
       "\n",
       "    .dataframe tbody tr th {\n",
       "        vertical-align: top;\n",
       "    }\n",
       "\n",
       "    .dataframe thead th {\n",
       "        text-align: right;\n",
       "    }\n",
       "</style>\n",
       "<table border=\"1\" class=\"dataframe\">\n",
       "  <thead>\n",
       "    <tr style=\"text-align: right;\">\n",
       "      <th></th>\n",
       "      <th>DATE</th>\n",
       "      <th>STORE_NBR</th>\n",
       "      <th>LYLTY_CARD_NBR</th>\n",
       "      <th>TXN_ID</th>\n",
       "      <th>PROD_NBR</th>\n",
       "      <th>PROD_NAME</th>\n",
       "      <th>PROD_QTY</th>\n",
       "      <th>TOT_SALES</th>\n",
       "      <th>pack_size</th>\n",
       "      <th>(pack_size, PROD_NAME)</th>\n",
       "      <th>Brand</th>\n",
       "      <th>LIFESTAGE</th>\n",
       "      <th>PREMIUM_CUSTOMER</th>\n",
       "    </tr>\n",
       "  </thead>\n",
       "  <tbody>\n",
       "    <tr>\n",
       "      <th>0</th>\n",
       "      <td>2018-10-17</td>\n",
       "      <td>1</td>\n",
       "      <td>1000</td>\n",
       "      <td>1</td>\n",
       "      <td>5</td>\n",
       "      <td>Natural Chip        Compny SeaSalt175g</td>\n",
       "      <td>2</td>\n",
       "      <td>6.0</td>\n",
       "      <td>175</td>\n",
       "      <td>175</td>\n",
       "      <td>Natural</td>\n",
       "      <td>YOUNG SINGLES/COUPLES</td>\n",
       "      <td>Premium</td>\n",
       "    </tr>\n",
       "    <tr>\n",
       "      <th>1</th>\n",
       "      <td>2019-05-14</td>\n",
       "      <td>1</td>\n",
       "      <td>1307</td>\n",
       "      <td>348</td>\n",
       "      <td>66</td>\n",
       "      <td>CCs Nacho Cheese    175g</td>\n",
       "      <td>3</td>\n",
       "      <td>6.3</td>\n",
       "      <td>175</td>\n",
       "      <td>175</td>\n",
       "      <td>CCs</td>\n",
       "      <td>MIDAGE SINGLES/COUPLES</td>\n",
       "      <td>Budget</td>\n",
       "    </tr>\n",
       "    <tr>\n",
       "      <th>2</th>\n",
       "      <td>2018-11-10</td>\n",
       "      <td>1</td>\n",
       "      <td>1307</td>\n",
       "      <td>346</td>\n",
       "      <td>96</td>\n",
       "      <td>Woolworths Original Stacked Chips 160g</td>\n",
       "      <td>2</td>\n",
       "      <td>3.8</td>\n",
       "      <td>160</td>\n",
       "      <td>160</td>\n",
       "      <td>Woolworths</td>\n",
       "      <td>MIDAGE SINGLES/COUPLES</td>\n",
       "      <td>Budget</td>\n",
       "    </tr>\n",
       "    <tr>\n",
       "      <th>3</th>\n",
       "      <td>2019-03-09</td>\n",
       "      <td>1</td>\n",
       "      <td>1307</td>\n",
       "      <td>347</td>\n",
       "      <td>54</td>\n",
       "      <td>CCs Original 175g</td>\n",
       "      <td>1</td>\n",
       "      <td>2.1</td>\n",
       "      <td>175</td>\n",
       "      <td>175</td>\n",
       "      <td>CCs</td>\n",
       "      <td>MIDAGE SINGLES/COUPLES</td>\n",
       "      <td>Budget</td>\n",
       "    </tr>\n",
       "    <tr>\n",
       "      <th>4</th>\n",
       "      <td>2019-05-20</td>\n",
       "      <td>1</td>\n",
       "      <td>1343</td>\n",
       "      <td>383</td>\n",
       "      <td>61</td>\n",
       "      <td>Smiths Crinkle Cut  Chips Chicken 170g</td>\n",
       "      <td>2</td>\n",
       "      <td>2.9</td>\n",
       "      <td>170</td>\n",
       "      <td>170</td>\n",
       "      <td>Smiths</td>\n",
       "      <td>MIDAGE SINGLES/COUPLES</td>\n",
       "      <td>Budget</td>\n",
       "    </tr>\n",
       "  </tbody>\n",
       "</table>\n",
       "</div>"
      ],
      "text/plain": [
       "        DATE  STORE_NBR  LYLTY_CARD_NBR  TXN_ID  PROD_NBR  \\\n",
       "0 2018-10-17          1            1000       1         5   \n",
       "1 2019-05-14          1            1307     348        66   \n",
       "2 2018-11-10          1            1307     346        96   \n",
       "3 2019-03-09          1            1307     347        54   \n",
       "4 2019-05-20          1            1343     383        61   \n",
       "\n",
       "                                PROD_NAME  PROD_QTY  TOT_SALES pack_size  \\\n",
       "0  Natural Chip        Compny SeaSalt175g         2        6.0       175   \n",
       "1                CCs Nacho Cheese    175g         3        6.3       175   \n",
       "2  Woolworths Original Stacked Chips 160g         2        3.8       160   \n",
       "3                       CCs Original 175g         1        2.1       175   \n",
       "4  Smiths Crinkle Cut  Chips Chicken 170g         2        2.9       170   \n",
       "\n",
       "  (pack_size, PROD_NAME)       Brand               LIFESTAGE PREMIUM_CUSTOMER  \n",
       "0                    175     Natural   YOUNG SINGLES/COUPLES          Premium  \n",
       "1                    175         CCs  MIDAGE SINGLES/COUPLES           Budget  \n",
       "2                    160  Woolworths  MIDAGE SINGLES/COUPLES           Budget  \n",
       "3                    175         CCs  MIDAGE SINGLES/COUPLES           Budget  \n",
       "4                    170      Smiths  MIDAGE SINGLES/COUPLES           Budget  "
      ]
     },
     "execution_count": 254,
     "metadata": {},
     "output_type": "execute_result"
    }
   ],
   "source": [
    "#### Merge transaction data to customer data\n",
    "left =dataset\n",
    "right = dataset_2\n",
    "data_merge = pd.merge(left, right, on=[\"LYLTY_CARD_NBR\"])\n",
    "data_merge.head()"
   ]
  },
  {
   "cell_type": "code",
   "execution_count": 258,
   "id": "c3edac8b",
   "metadata": {},
   "outputs": [
    {
     "data": {
      "text/html": [
       "<div>\n",
       "<style scoped>\n",
       "    .dataframe tbody tr th:only-of-type {\n",
       "        vertical-align: middle;\n",
       "    }\n",
       "\n",
       "    .dataframe tbody tr th {\n",
       "        vertical-align: top;\n",
       "    }\n",
       "\n",
       "    .dataframe thead th {\n",
       "        text-align: right;\n",
       "    }\n",
       "</style>\n",
       "<table border=\"1\" class=\"dataframe\">\n",
       "  <thead>\n",
       "    <tr style=\"text-align: right;\">\n",
       "      <th></th>\n",
       "      <th>LYLTY_CARD_NBR</th>\n",
       "      <th>LIFESTAGE</th>\n",
       "      <th>PREMIUM_CUSTOMER</th>\n",
       "    </tr>\n",
       "  </thead>\n",
       "  <tbody>\n",
       "    <tr>\n",
       "      <th>224</th>\n",
       "      <td>1343</td>\n",
       "      <td>MIDAGE SINGLES/COUPLES</td>\n",
       "      <td>Budget</td>\n",
       "    </tr>\n",
       "  </tbody>\n",
       "</table>\n",
       "</div>"
      ],
      "text/plain": [
       "     LYLTY_CARD_NBR               LIFESTAGE PREMIUM_CUSTOMER\n",
       "224            1343  MIDAGE SINGLES/COUPLES           Budget"
      ]
     },
     "execution_count": 258,
     "metadata": {},
     "output_type": "execute_result"
    }
   ],
   "source": [
    "#### Check if merged data is correct\n",
    "ft = dataset_2['LYLTY_CARD_NBR'] ==1343\n",
    "dataset_2[ft]"
   ]
  },
  {
   "cell_type": "code",
   "execution_count": 259,
   "id": "6c71df80",
   "metadata": {},
   "outputs": [],
   "source": [
    "## export merge result.\n",
    "data_merge.to_csv(r'C:\\python trainning\\Scripts\\data_merge.csv', index=False, header=True)"
   ]
  },
  {
   "cell_type": "code",
   "execution_count": 266,
   "id": "e561e0b5",
   "metadata": {},
   "outputs": [],
   "source": [
    "## Examining merge data\n",
    "data_m = pd.read_csv(data_merge.csv)"
   ]
  },
  {
   "cell_type": "code",
   "execution_count": 388,
   "id": "e5d05c96",
   "metadata": {},
   "outputs": [
    {
     "name": "stdout",
     "output_type": "stream",
     "text": [
      "                Lifestage     Budget  Mainstream    Premium\n",
      "0  MIDAGE SINGLES/COUPLES   35514.80    90803.85   58432.65\n",
      "1            NEW FAMILIES   21928.45    17013.90   11491.10\n",
      "2          OLDER FAMILIES  168363.25   103445.55   80658.40\n",
      "3   OLDER SINGLES/COUPLES  136769.80   133393.80  132263.15\n",
      "4                RETIREES  113147.80   155677.05   97646.05\n",
      "5          YOUNG FAMILIES  139345.85    92788.75   84025.50\n",
      "6   YOUNG SINGLES/COUPLES   61141.60   157621.60   41642.10\n"
     ]
    },
    {
     "data": {
      "text/plain": [
       "Text(0, 0.5, 'TOTAL SALES')"
      ]
     },
     "execution_count": 388,
     "metadata": {},
     "output_type": "execute_result"
    },
    {
     "data": {
      "image/png": "[encoded data removed]",
      "text/plain": [
       "<Figure size 640x480 with 1 Axes>"
      ]
     },
     "metadata": {},
     "output_type": "display_data"
    }
   ],
   "source": [
    "da= data_m.groupby(['LIFESTAGE','PREMIUM_CUSTOMER'],as_index=False)['TOT_SALES'].sum()\n",
    "Budget= da[da['PREMIUM_CUSTOMER'] =='Budget']['TOT_SALES']\n",
    "Mainstream= da[da['PREMIUM_CUSTOMER'] =='Mainstream']['TOT_SALES']\n",
    "Premium= da[da['PREMIUM_CUSTOMER'] =='Premium']['TOT_SALES']\n",
    "B= Budget.reset_index(drop=True).to_list()\n",
    "M=Mainstream.reset_index(drop=True).to_list()\n",
    "P=Premium.reset_index(drop=True).to_list()\n",
    "L=['MIDAGE SINGLES/COUPLES','NEW FAMILIES','OLDER FAMILIES','OLDER SINGLES/COUPLES','RETIREES','YOUNG FAMILIES','YOUNG SINGLES/COUPLES']\n",
    "\n",
    "\n",
    "df = pd.DataFrame(list(zip(L, B, M, P)), columns =['Lifestage','Budget', 'Mainstream','Premium'])\n",
    "print(df)\n",
    "\n",
    "df.plot.bar(x= 'Lifestage', stacked=True)\n",
    "plt.xlabel('LIFESTAGE')\n",
    "plt.ylabel('TOTAL SALES')\n",
    "\n",
    "\n",
    "## Older families and retires in general buy more chips per customer"
   ]
  },
  {
   "cell_type": "code",
   "execution_count": 412,
   "id": "d3f18312",
   "metadata": {},
   "outputs": [],
   "source": [
    "## Find target customer segments that contribute the most to sales\n",
    "## Deep dive into Mainstream, young singles/couples\n",
    "ft1= (data_m['LIFESTAGE'] =='YOUNG SINGLES/COUPLES')\n",
    "ft2= (data_m['PREMIUM_CUSTOMER'] =='Mainstream')\n",
    "seg= data_m[ft1 & ft2]\n",
    "other= data_m[~ft1 & ~ft2]"
   ]
  },
  {
   "cell_type": "code",
   "execution_count": 414,
   "id": "c4162439",
   "metadata": {},
   "outputs": [
    {
     "name": "stdout",
     "output_type": "stream",
     "text": [
      "38632\n",
      "282757\n"
     ]
    }
   ],
   "source": [
    "seg_sum=seg['PROD_QTY'].sum()\n",
    "other_sum=other['PROD_QTY'].sum()\n",
    "print(seg_sum)\n",
    "print(other_sum)"
   ]
  },
  {
   "cell_type": "code",
   "execution_count": 436,
   "id": "aa34540e",
   "metadata": {},
   "outputs": [
    {
     "name": "stdout",
     "output_type": "stream",
     "text": [
      "         Brand  TargetSegment     Other  affinityToBrand\n",
      "19    Tyrrells       0.029587  0.023968         1.234454\n",
      "18    Twisties       0.043306  0.035355         1.224877\n",
      "9       Kettle       0.185649  0.155243         1.195863\n",
      "17    Tostitos       0.042581  0.035744         1.191269\n",
      "11         Old       0.041598  0.034931         1.190850\n",
      "12    Pringles       0.111980  0.094240         1.188241\n",
      "4         Cobs       0.041856  0.035836         1.167987\n",
      "5      Doritos       0.122877  0.105278         1.167174\n",
      "8    Infuzions       0.060649  0.053509         1.133443\n",
      "16       Thins       0.056611  0.053275         1.062612\n",
      "7      GrnWves       0.030674  0.028958         1.059270\n",
      "3     Cheezels       0.016851  0.017619         0.956409\n",
      "14      Smiths       0.093420  0.121327         0.769986\n",
      "6       French       0.003702  0.005319         0.695912\n",
      "2      Cheetos       0.007533  0.010960         0.687286\n",
      "13         RRD       0.045377  0.068310         0.664283\n",
      "10     Natural       0.018379  0.028855         0.636924\n",
      "1          CCs       0.010484  0.017191         0.609811\n",
      "15    Sunbites       0.005954  0.011756         0.506446\n",
      "20  Woolworths       0.028189  0.056232         0.501299\n",
      "0       Burger       0.002744  0.006094         0.450284\n"
     ]
    },
    {
     "data": {
      "text/plain": [
       "Text(0, 0.5, 'AffinityToBrand')"
      ]
     },
     "execution_count": 436,
     "metadata": {},
     "output_type": "execute_result"
    },
    {
     "data": {
      "image/png": "[encoded data removed]",
      "text/plain": [
       "<Figure size 640x480 with 1 Axes>"
      ]
     },
     "metadata": {},
     "output_type": "display_data"
    }
   ],
   "source": [
    "## Brand affinity compared to the rest of the population\n",
    "seg_aff= seg.groupby(['Brand'],as_index=False).sum()\n",
    "seg_aff['TargetSegment']=seg_aff['PROD_QTY']/seg_sum\n",
    "seg_aff.sort_values(by=['TargetSegment'], ascending=False).reset_index(drop=True)\n",
    "tar_seg= seg_aff[['Brand','TargetSegment']]\n",
    "\n",
    "other_aff= other.groupby(['Brand'],as_index=False).sum()\n",
    "other_aff['Other']=other_aff['PROD_QTY']/other_sum\n",
    "other_aff.sort_values(by=['Other'], ascending=False).reset_index(drop=True)\n",
    "other_seg= other_aff[['Brand','Other']]\n",
    "\n",
    "## Merge target segment and other\n",
    "left =tar_seg\n",
    "right = other_seg\n",
    "data_merge = pd.merge(left, right, on=[\"Brand\"])\n",
    "data_merge['AffinityToBrand']=data_merge['TargetSegment']/data_merge['Other']\n",
    "print(data_merge.sort_values(by=['AffinityToBrand'],ascending=False))\n",
    "## plot bar chart\n",
    "data_merge.plot(kind='bar', x=\"Brand\", y='AffinityToBrand')\n",
    "plt.xlabel('Brand')\n",
    "plt.ylabel('AffinityToBrand')\n"
   ]
  },
  {
   "cell_type": "code",
   "execution_count": null,
   "id": "ee0c5823",
   "metadata": {},
   "outputs": [],
   "source": [
    "We can see that :\n",
    "• Mainstream young singles/couples are 23% more likely to purchase Tyrrells chips compared to the\n",
    "rest of the population\n",
    "• Mainstream young singles/couples are 56% less likely to purchase Burger Rings compared to the rest\n",
    "of the population"
   ]
  },
  {
   "cell_type": "code",
   "execution_count": 443,
   "id": "e238be0d",
   "metadata": {},
   "outputs": [
    {
     "name": "stdout",
     "output_type": "stream",
     "text": [
      "    pack_size  TargetSegment     Other  AffinityToPack\n",
      "17        270       0.029846  0.023366        1.277295\n",
      "20        380       0.030156  0.023964        1.258400\n",
      "19        330       0.057465  0.047511        1.209522\n",
      "2         110       0.099658  0.083489        1.193675\n",
      "4         134       0.111980  0.094240        1.188241\n",
      "14        210       0.027309  0.023200        1.177104\n",
      "5         135       0.013849  0.012053        1.149001\n",
      "16        250       0.013460  0.011989        1.122716\n",
      "9         170       0.075740  0.074888        1.011386\n",
      "18        300       0.054954  0.056709        0.969052\n",
      "6         150       0.155130  0.163228        0.950388\n",
      "10        175       0.239102  0.253012        0.945022\n",
      "8         165       0.052185  0.057403        0.909100\n",
      "12        190       0.007015  0.011307        0.620430\n",
      "11        180       0.003365  0.005758        0.584460\n",
      "7         160       0.006005  0.011391        0.527185\n",
      "3         125       0.002821  0.005570        0.506538\n",
      "1          90       0.005954  0.011756        0.506446\n",
      "13        200       0.008413  0.017216        0.488651\n",
      "0          70       0.002847  0.005857        0.486182\n",
      "15        220       0.002744  0.006094        0.450284\n"
     ]
    },
    {
     "data": {
      "text/plain": [
       "Text(0, 0.5, 'AffinityToPack')"
      ]
     },
     "execution_count": 443,
     "metadata": {},
     "output_type": "execute_result"
    },
    {
     "data": {
      "image/png": "[encoded data removed]",
      "text/plain": [
       "<Figure size 640x480 with 1 Axes>"
      ]
     },
     "metadata": {},
     "output_type": "display_data"
    }
   ],
   "source": [
    "## To find out if our target segment tends to buy larger packs of chips.\n",
    "## Preferred pack size compared to the rest of the population\n",
    "\n",
    "quantity_segment1_by_pack= seg.groupby(['pack_size'],as_index=False).sum()\n",
    "quantity_segment1_by_pack['TargetSegment']=quantity_segment1_by_pack['PROD_QTY']/seg_sum\n",
    "quantity_segment1_by_pack.sort_values(by=['TargetSegment'], ascending=False).reset_index(drop=True)\n",
    "tar_seg_by_pack= quantity_segment1_by_pack[['pack_size','TargetSegment']]\n",
    "\n",
    "other_by_pack= other.groupby(['pack_size'],as_index=False).sum()\n",
    "other_by_pack['Other']=other_by_pack['PROD_QTY']/other_sum\n",
    "other_by_pack.sort_values(by=['Other'], ascending=False).reset_index(drop=True)\n",
    "other_seg_by_pack= other_by_pack[['pack_size','Other']]\n",
    "\n",
    "## Merge target segment and other\n",
    "left =tar_seg_by_pack\n",
    "right = other_seg_by_pack\n",
    "data_merge = pd.merge(left, right, on=[\"pack_size\"])\n",
    "data_merge['AffinityToPack']=data_merge['TargetSegment']/data_merge['Other']\n",
    "print(data_merge.sort_values(by=['AffinityToPack'],ascending=False))\n",
    "## plot bar chart\n",
    "data_merge.plot(kind='bar', x=\"pack_size\", y='AffinityToPack')\n",
    "plt.xlabel('Pack size')\n",
    "plt.ylabel('AffinityToPack')"
   ]
  },
  {
   "cell_type": "code",
   "execution_count": null,
   "id": "f349a7b6",
   "metadata": {},
   "outputs": [],
   "source": [
    "It looks like Mainstream young singles/couples are 27% more likely to purchase a 270g pack of chips compared\n",
    "to the rest of the population but let’s dive into what brands sell this pack size."
   ]
  },
  {
   "cell_type": "code",
   "execution_count": 451,
   "id": "11ecdf8b",
   "metadata": {},
   "outputs": [
    {
     "name": "stdout",
     "output_type": "stream",
     "text": [
      "                  PROD_NAME  size\n",
      "0  Twisties Cheese     270g   315\n",
      "1      Twisties Chicken270g   305\n"
     ]
    }
   ],
   "source": [
    "## To find the brands sell pack size 270g.\n",
    "seg_270g= seg[seg['pack_size'] == 270]\n",
    "seg_pro_270g=seg_270g.groupby(['PROD_NAME'],as_index=False).size()\n",
    "print(seg_pro_270g)\n",
    "\n",
    "\n",
    "## Twisties are the only brand offering 270g packs and so this may instead be reflecting a higher likelihood of purchasing Twisties.\n"
   ]
  },
  {
   "cell_type": "code",
   "execution_count": null,
   "id": "f2d10b68",
   "metadata": {},
   "outputs": [],
   "source": [
    "Conclusion\n",
    "\n",
    "•Sales have mainly been due to Budget - older families, Mainstream - young singles/couples, and Mainstream\n",
    "  -retirees shoppers. \n",
    "    \n",
    "•Mainstream young singles and couples are 23% more likely to purchase Tyrrells chips\n",
    "  compared to the rest of the population. The Category Manager may want to increase the category’s performance\n",
    "  by off-locating some Tyrrells and smaller packs of chips in discretionary space near segments\n",
    "  where young singles and couples frequent more often to increase visibilty and impulse behaviour.\n",
    "\n",
    "•Mainstream young singles and couples are 27% more tends to buy larger packs of chips of 270g and Tyrrells is \n",
    "  the only brand offering this packs size so this may instead be reflecting a higher likelihood of purchasing Twisties.\n",
    "\n",
    "•Quantium can help the Category Manager with recommendations of where these segments are and further\n",
    "  help them with measuring the impact of the changed placement."
   ]
  }
 ],
 "metadata": {
  "kernelspec": {
   "display_name": "Python 3 (ipykernel)",
   "language": "python",
   "name": "python3"
  },
  "language_info": {
   "codemirror_mode": {
    "name": "ipython",
    "version": 3
   },
   "file_extension": ".py",
   "mimetype": "text/x-python",
   "name": "python",
   "nbconvert_exporter": "python",
   "pygments_lexer": "ipython3",
   "version": "3.10.2"
  }
 },
 "nbformat": 4,
 "nbformat_minor": 5
}
